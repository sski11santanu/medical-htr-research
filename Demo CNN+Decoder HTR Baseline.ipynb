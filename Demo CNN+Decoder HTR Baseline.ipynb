{
  "nbformat": 4,
  "nbformat_minor": 0,
  "metadata": {
    "colab": {
      "provenance": []
    },
    "kernelspec": {
      "name": "python3",
      "display_name": "Python 3"
    },
    "language_info": {
      "name": "python"
    }
  },
  "cells": [
    {
      "cell_type": "markdown",
      "source": [
        "# Initialization"
      ],
      "metadata": {
        "id": "I5UsuWXk8qfj"
      }
    },
    {
      "cell_type": "markdown",
      "source": [
        "## Imports"
      ],
      "metadata": {
        "id": "vbzkh-pl5V17"
      }
    },
    {
      "cell_type": "code",
      "execution_count": null,
      "metadata": {
        "id": "P1_ozqx75CEI"
      },
      "outputs": [],
      "source": [
        "import pandas as pd\n",
        "import io\n",
        "from PIL import Image\n",
        "import matplotlib.pyplot as plt\n",
        "\n",
        "import torch\n",
        "import torch.nn as nn\n",
        "import torchvision.transforms as T\n",
        "import torch.optim as optim\n",
        "import torch.nn.functional as F"
      ]
    },
    {
      "cell_type": "markdown",
      "source": [
        "## Data Loading"
      ],
      "metadata": {
        "id": "pwOojh7m5tXj"
      }
    },
    {
      "cell_type": "code",
      "source": [
        "SPLITS = {'train': 'data/train.parquet', 'validation': 'data/validation.parquet', 'test': 'data/test.parquet'}\n",
        "\n",
        "train_df = pd.read_parquet(\"hf://datasets/Teklia/IAM-line/\" + SPLITS[\"train\"])\n",
        "valid_df = pd.read_parquet(\"hf://datasets/Teklia/IAM-line/\" + SPLITS[\"validation\"])"
      ],
      "metadata": {
        "colab": {
          "base_uri": "https://localhost:8080/"
        },
        "id": "E-_m4nOS5sfo",
        "outputId": "65050785-c6b8-403b-e17d-bbb6327585d8"
      },
      "execution_count": null,
      "outputs": [
        {
          "output_type": "stream",
          "name": "stderr",
          "text": [
            "/usr/local/lib/python3.11/dist-packages/huggingface_hub/utils/_auth.py:94: UserWarning: \n",
            "The secret `HF_TOKEN` does not exist in your Colab secrets.\n",
            "To authenticate with the Hugging Face Hub, create a token in your settings tab (https://huggingface.co/settings/tokens), set it as secret in your Google Colab and restart your session.\n",
            "You will be able to reuse this secret in all of your notebooks.\n",
            "Please note that authentication is recommended but still optional to access public models or datasets.\n",
            "  warnings.warn(\n"
          ]
        }
      ]
    },
    {
      "cell_type": "markdown",
      "source": [
        "## Global Values"
      ],
      "metadata": {
        "id": "ePZcqJ6M7BrD"
      }
    },
    {
      "cell_type": "code",
      "source": [
        "H_dash = 64\n",
        "W_dash = 512"
      ],
      "metadata": {
        "id": "nBfxTEfj7HXL"
      },
      "execution_count": null,
      "outputs": []
    },
    {
      "cell_type": "code",
      "source": [
        "CHARSET = \"_abcdefghijklmnopqrstuvwxyzABCDEFGHIJKLMNOPQRSTUVWXYZ0123456789 @#$%&*()-+=<,>.?\""
      ],
      "metadata": {
        "id": "s6frkLUj7gUS"
      },
      "execution_count": null,
      "outputs": []
    },
    {
      "cell_type": "code",
      "source": [
        "SEQUENCE_LENGTH = 50"
      ],
      "metadata": {
        "id": "YDS0fDSE7hcK"
      },
      "execution_count": null,
      "outputs": []
    },
    {
      "cell_type": "code",
      "source": [
        "INPUT_DIM = 128"
      ],
      "metadata": {
        "id": "dpuLv4Ug7nyE"
      },
      "execution_count": null,
      "outputs": []
    },
    {
      "cell_type": "code",
      "source": [
        "CONV_CHANNELS = [4, 8]"
      ],
      "metadata": {
        "id": "jARuygyp8hWB"
      },
      "execution_count": null,
      "outputs": []
    },
    {
      "cell_type": "code",
      "source": [
        "KERNEL_SIZE = 3\n",
        "MAXPOOL_SIZE = 2"
      ],
      "metadata": {
        "id": "DV7SE15lCbmo"
      },
      "execution_count": null,
      "outputs": []
    },
    {
      "cell_type": "markdown",
      "source": [
        "## Utils"
      ],
      "metadata": {
        "id": "HeSrhimq6p-U"
      }
    },
    {
      "cell_type": "code",
      "source": [
        "def display(image_to_show):\n",
        "    plt.imshow(image_to_show.squeeze(), cmap = \"gray\")\n",
        "    plt.axis(\"off\")\n",
        "    plt.show()"
      ],
      "metadata": {
        "id": "9DT0lFE36rF9"
      },
      "execution_count": null,
      "outputs": []
    },
    {
      "cell_type": "code",
      "source": [
        "def combine(images):\n",
        "    multiline_image = torch.stack(list(images))\n",
        "    multiline_image = multiline_image.view(1, -1, W_dash)\n",
        "    return multiline_image"
      ],
      "metadata": {
        "id": "Rbnh-Pv39GCw"
      },
      "execution_count": null,
      "outputs": []
    },
    {
      "cell_type": "code",
      "source": [
        "def char2idx(charset, char):\n",
        "    return charset.index(char)"
      ],
      "metadata": {
        "id": "jVs8YJPx-xId"
      },
      "execution_count": null,
      "outputs": []
    },
    {
      "cell_type": "code",
      "source": [
        "class TextObject:\n",
        "    def __init__(self, charset = CHARSET, seq_length = SEQUENCE_LENGTH):\n",
        "        self.charset = charset\n",
        "        self.seq_length = seq_length\n",
        "\n",
        "    def char2idx(self, char):\n",
        "        return char2idx(self.charset, char)\n",
        "\n",
        "    def __call__(self, text):\n",
        "        s = []\n",
        "        for i in range(self.seq_length):\n",
        "            t = [0] * len(self.charset)\n",
        "            if i < len(text):\n",
        "                # t = [0] * (len(self.charset) + 1)\n",
        "                c = text[i]\n",
        "                if c not in self.charset:\n",
        "                    c = \"?\"\n",
        "                t[self.char2idx(c)] = 1\n",
        "                s.append(t)\n",
        "            else:\n",
        "                t[0] = 1\n",
        "                s.append(t)\n",
        "\n",
        "        s = torch.tensor(s)\n",
        "        return s"
      ],
      "metadata": {
        "id": "o4eLgLxt-yCW"
      },
      "execution_count": null,
      "outputs": []
    },
    {
      "cell_type": "code",
      "source": [
        "text_preprocessor = T.Compose([\n",
        "    TextObject()\n",
        "])"
      ],
      "metadata": {
        "id": "Y76MToRf_WdJ"
      },
      "execution_count": null,
      "outputs": []
    },
    {
      "cell_type": "code",
      "source": [
        "def idx2char(i):\n",
        "    return CHARSET[i]"
      ],
      "metadata": {
        "id": "pzwTI0xkDTPQ"
      },
      "execution_count": null,
      "outputs": []
    },
    {
      "cell_type": "code",
      "source": [
        "def textify(bld):\n",
        "    B, L, D = bld.shape\n",
        "    texts = []\n",
        "    for ld in bld:\n",
        "        text = \"\"\n",
        "        for d in ld:\n",
        "            text += idx2char(torch.argmax(d))\n",
        "        texts.append(text)\n",
        "    return texts"
      ],
      "metadata": {
        "id": "bjP9eGJkDXH0"
      },
      "execution_count": null,
      "outputs": []
    },
    {
      "cell_type": "markdown",
      "source": [
        "## HTR Segmentation"
      ],
      "metadata": {
        "id": "3pyJ7XitAKyh"
      }
    },
    {
      "cell_type": "code",
      "source": [
        "def get_ht(multiline_image):\n",
        "    ht = []\n",
        "    for i in range(0, multiline_image.shape[1], H_dash):\n",
        "        ht.append(multiline_image[0, i : i + H_dash, :].unsqueeze(0))\n",
        "\n",
        "    return torch.cat(ht, dim = 0).view(len(ht), 1, H_dash, -1)"
      ],
      "metadata": {
        "id": "AwHQ0YRxAJ5s"
      },
      "execution_count": null,
      "outputs": []
    },
    {
      "cell_type": "markdown",
      "source": [
        "## Preprocessing"
      ],
      "metadata": {
        "id": "tpKM9K0O6z-h"
      }
    },
    {
      "cell_type": "code",
      "source": [
        "class ImageObject:\n",
        "    def __call__(self, image_dict):\n",
        "        image_bytes = image_dict[\"bytes\"]\n",
        "        return Image.open(io.BytesIO(image_bytes))"
      ],
      "metadata": {
        "id": "kiDE9BGn6a7H"
      },
      "execution_count": null,
      "outputs": []
    },
    {
      "cell_type": "code",
      "source": [
        "image_preprocessor = T.Compose([\n",
        "    ImageObject(),\n",
        "    T.Grayscale(), # Channels: 3 -> 1\n",
        "    T.ToTensor(),\n",
        "    T.Lambda(lambda x: (x > 0.5).float()), # Binarizes the image\n",
        "    T.Resize((64, 512)) # Random values for width and height\n",
        "])"
      ],
      "metadata": {
        "id": "nGr_yTOs666f"
      },
      "execution_count": null,
      "outputs": []
    },
    {
      "cell_type": "code",
      "source": [
        "train_df[\"image\"] = train_df[\"image\"].apply(image_preprocessor)\n",
        "valid_df[\"image\"] = valid_df[\"image\"].apply(image_preprocessor)"
      ],
      "metadata": {
        "id": "ggzVDCIX_vSb"
      },
      "execution_count": null,
      "outputs": []
    },
    {
      "cell_type": "code",
      "source": [
        "train_df[\"label\"] = train_df[\"text\"].apply(text_preprocessor)\n",
        "valid_df[\"label\"] = valid_df[\"text\"].apply(text_preprocessor)"
      ],
      "metadata": {
        "id": "KLvn87pK_zCR"
      },
      "execution_count": null,
      "outputs": []
    },
    {
      "cell_type": "code",
      "source": [
        "# Set aside some images for the demo\n",
        "test_df = valid_df.tail(10).reset_index(drop = True)"
      ],
      "metadata": {
        "id": "9chR8kAF_7eY"
      },
      "execution_count": null,
      "outputs": []
    },
    {
      "cell_type": "markdown",
      "source": [
        "## Feature Extractor (CNN)"
      ],
      "metadata": {
        "id": "edMXzarkCD0d"
      }
    },
    {
      "cell_type": "code",
      "source": [
        "class CNNEncoder(nn.Module):\n",
        "    def __init__(self, num_classes = len(CHARSET)):\n",
        "        super(CNNEncoder, self).__init__()\n",
        "        self.conv1 = nn.Conv2d(1, CONV_CHANNELS[0], kernel_size=3, padding=1)\n",
        "        self.conv2 = nn.Conv2d(CONV_CHANNELS[0], CONV_CHANNELS[1], kernel_size = KERNEL_SIZE, padding=1)\n",
        "        self.pool = nn.MaxPool2d(MAXPOOL_SIZE, MAXPOOL_SIZE)\n",
        "        self.fc1 = nn.Linear(CONV_CHANNELS[1] * 16 * 128, INPUT_DIM)\n",
        "\n",
        "    def forward(self, x):\n",
        "        x = self.pool(F.relu(self.conv1(x)))\n",
        "        x = self.pool(F.relu(self.conv2(x)))\n",
        "        x = x.view(-1, CONV_CHANNELS[1] * 16 * 128)\n",
        "        x = F.relu(self.fc1(x))\n",
        "        return x"
      ],
      "metadata": {
        "id": "plg_n4xCB-Mo"
      },
      "execution_count": null,
      "outputs": []
    },
    {
      "cell_type": "code",
      "source": [
        "class Decoder(nn.Module):\n",
        "    def __init__(self, input_dim = INPUT_DIM, num_classes = len(CHARSET), seq_len = SEQUENCE_LENGTH):\n",
        "        super(Decoder, self).__init__()\n",
        "        self.fc = nn.Linear(input_dim, num_classes * seq_len)\n",
        "        self.seq_len = seq_len\n",
        "        self.num_classes = num_classes\n",
        "\n",
        "    def forward(self, x):\n",
        "        x = self.fc(x)\n",
        "        x = x.view(-1, self.seq_len, self.num_classes)\n",
        "        return x"
      ],
      "metadata": {
        "id": "IMnFfmaMCvDt"
      },
      "execution_count": null,
      "outputs": []
    },
    {
      "cell_type": "code",
      "source": [
        "class Model(nn.Module):\n",
        "    def __init__(self, num_chars, seq_len):\n",
        "        super(Model, self).__init__()\n",
        "        self.cnn = CNNEncoder() # CNN based feature extractor\n",
        "        self.decoder = Decoder() # Fully connected neural network decoder\n",
        "        self.activation = nn.Softmax(dim = 2) # Softmax final activation function\n",
        "\n",
        "    def forward(self, images):\n",
        "        cnn_features = self.cnn(images)\n",
        "        output = self.decoder(cnn_features)\n",
        "        output = self.activation(output)\n",
        "        return output"
      ],
      "metadata": {
        "id": "Ppi_WUJXC8z8"
      },
      "execution_count": null,
      "outputs": []
    },
    {
      "cell_type": "markdown",
      "source": [
        "## Loss"
      ],
      "metadata": {
        "id": "a_2F9r31D9qc"
      }
    },
    {
      "cell_type": "code",
      "source": [
        "class CustomLoss(nn.Module):\n",
        "    def __init__(self):\n",
        "        super(CustomLoss, self).__init__()\n",
        "\n",
        "    def forward(self, labels, outputs):\n",
        "        if outputs.shape != labels.shape:\n",
        "            raise ValueError(\"Outputs and labels tensors must have the same shape.\")\n",
        "\n",
        "        # Compute cross entropy for each row of each matrix (L, C)\n",
        "        B, L, C = outputs.shape\n",
        "        criterion = nn.CrossEntropyLoss(reduction='none')\n",
        "        labels = labels.to(torch.float32)\n",
        "        loss = 0\n",
        "\n",
        "        for i in range(B):\n",
        "            loss += criterion(labels[i], outputs[i]).sum()\n",
        "\n",
        "        return loss / B\n"
      ],
      "metadata": {
        "id": "gb72zvYkDGKi"
      },
      "execution_count": null,
      "outputs": []
    },
    {
      "cell_type": "markdown",
      "source": [
        "## Training"
      ],
      "metadata": {
        "id": "75_7wooHEv4f"
      }
    },
    {
      "cell_type": "code",
      "source": [
        "num_characters = len(CHARSET)  # Adjust based on your character set\n",
        "sequence_length = SEQUENCE_LENGTH  # Max length of your text sequence\n",
        "model = Model(num_characters, sequence_length)  # Model\n",
        "\n",
        "criterion = CustomLoss()  # Loss\n",
        "\n",
        "optimizer = optim.Adam(model.parameters(), lr = 0.001)  # Optimizer\n",
        "\n",
        "# Training loop\n",
        "num_epochs = 5  # Adjust as needed\n",
        "batch_size = 32\n",
        "\n",
        "for epoch in range(num_epochs):\n",
        "    model.train()\n",
        "    for i in range(0, len(train_df), batch_size):\n",
        "        batch = train_df[i : i + batch_size]\n",
        "        images = torch.stack(batch[\"image\"].tolist())\n",
        "        labels = torch.stack(batch[\"label\"].tolist())\n",
        "        B, C, H, W = images.shape\n",
        "        optimizer.zero_grad()\n",
        "        outputs = model(images)\n",
        "\n",
        "        loss = criterion(labels, outputs)\n",
        "        loss.backward()\n",
        "        optimizer.step()\n",
        "\n",
        "    # Validation\n",
        "    model.eval()\n",
        "    val_loss = 0\n",
        "    with torch.no_grad():\n",
        "        for i in range(0, len(valid_df), batch_size):\n",
        "            batch = valid_df[i : i + batch_size]\n",
        "            images = torch.stack(batch[\"image\"].tolist())\n",
        "            labels = torch.stack(batch[\"label\"].tolist())\n",
        "            B, C, H, W = images.shape\n",
        "            outputs = model(images)\n",
        "\n",
        "            loss = criterion(labels, outputs)\n",
        "            val_loss += loss.item()\n",
        "\n",
        "    print(f\"Epoch {epoch+1}/{num_epochs}, Training Loss: {loss.item():.4f}, Validation Loss: {val_loss / len(valid_df):.4f}\")"
      ],
      "metadata": {
        "colab": {
          "base_uri": "https://localhost:8080/"
        },
        "id": "M6NbzyYXEmar",
        "outputId": "fa36977b-7421-4b34-b13a-3857de995d98"
      },
      "execution_count": null,
      "outputs": [
        {
          "output_type": "stream",
          "name": "stdout",
          "text": [
            "Epoch 1/5, Training Loss: 212.0388, Validation Loss: 6.6666\n",
            "Epoch 2/5, Training Loss: 212.0388, Validation Loss: 6.6666\n",
            "Epoch 3/5, Training Loss: 212.0388, Validation Loss: 6.6666\n",
            "Epoch 4/5, Training Loss: 212.0388, Validation Loss: 6.6666\n",
            "Epoch 5/5, Training Loss: 212.0388, Validation Loss: 6.6666\n"
          ]
        }
      ]
    },
    {
      "cell_type": "markdown",
      "source": [
        "# Demo"
      ],
      "metadata": {
        "id": "ITocLbELFl-K"
      }
    },
    {
      "cell_type": "markdown",
      "source": [
        "## Sample Image"
      ],
      "metadata": {
        "id": "nRixNsUOGPd6"
      }
    },
    {
      "cell_type": "code",
      "source": [
        "sample_image = combine(test_df.iloc[: 4, 1])\n",
        "display(sample_image)"
      ],
      "metadata": {
        "colab": {
          "base_uri": "https://localhost:8080/"
        },
        "id": "_VWH24PoFj-U",
        "outputId": "6774212d-06f0-4f08-aff8-b16fa2d2ab49"
      },
      "execution_count": null,
      "outputs": [
        {
          "output_type": "display_data",
          "data": {
            "text/plain": [
              "<Figure size 640x480 with 1 Axes>"
            ],
            "image/png": "[encoded data removed]"
          },
          "metadata": {}
        }
      ]
    },
    {
      "cell_type": "markdown",
      "source": [
        "## Segmentation"
      ],
      "metadata": {
        "id": "dV6kZk9GHPgZ"
      }
    },
    {
      "cell_type": "code",
      "source": [
        "images = get_ht(sample_image)"
      ],
      "metadata": {
        "id": "4x5mP9DGHPPG"
      },
      "execution_count": null,
      "outputs": []
    },
    {
      "cell_type": "code",
      "source": [
        "images.shape"
      ],
      "metadata": {
        "colab": {
          "base_uri": "https://localhost:8080/"
        },
        "id": "6uv5aA_FLzsL",
        "outputId": "0c0587bd-66e7-48ee-aefb-f80535f099aa"
      },
      "execution_count": null,
      "outputs": [
        {
          "output_type": "execute_result",
          "data": {
            "text/plain": [
              "torch.Size([4, 1, 64, 512])"
            ]
          },
          "metadata": {},
          "execution_count": 29
        }
      ]
    },
    {
      "cell_type": "markdown",
      "source": [
        "## Preprocessing"
      ],
      "metadata": {
        "id": "sMLiKgRLHsEL"
      }
    },
    {
      "cell_type": "code",
      "source": [
        "# images = image_preprocessor(images)\n",
        "display(images[1])"
      ],
      "metadata": {
        "colab": {
          "base_uri": "https://localhost:8080/"
        },
        "id": "PtotH3QpHOSD",
        "outputId": "7e4f96f5-e399-4d25-82fb-1efb38ea20dc"
      },
      "execution_count": null,
      "outputs": [
        {
          "output_type": "display_data",
          "data": {
            "text/plain": [
              "<Figure size 640x480 with 1 Axes>"
            ],
            "image/png": "[encoded data removed]"
          },
          "metadata": {}
        }
      ]
    },
    {
      "cell_type": "markdown",
      "source": [
        "## Prediction (Logits)"
      ],
      "metadata": {
        "id": "NuGKml-gH3xi"
      }
    },
    {
      "cell_type": "code",
      "source": [
        "prediction = model(images)\n",
        "prediction.shape"
      ],
      "metadata": {
        "colab": {
          "base_uri": "https://localhost:8080/"
        },
        "id": "uSXX0ykWH3L1",
        "outputId": "c1c8ac5a-a3b3-4857-949b-15bdf2e07312"
      },
      "execution_count": null,
      "outputs": [
        {
          "output_type": "execute_result",
          "data": {
            "text/plain": [
              "torch.Size([4, 50, 80])"
            ]
          },
          "metadata": {},
          "execution_count": 31
        }
      ]
    },
    {
      "cell_type": "markdown",
      "source": [
        "## Prediction (Text)"
      ],
      "metadata": {
        "id": "-D6j22NOL5ra"
      }
    },
    {
      "cell_type": "code",
      "source": [
        "text_prediction = textify(prediction)\n",
        "text_prediction"
      ],
      "metadata": {
        "colab": {
          "base_uri": "https://localhost:8080/"
        },
        "id": "CyyCtZ1-IFyV",
        "outputId": "b3a409a9-bbc8-49b1-9378-e4acb51a6c68"
      },
      "execution_count": null,
      "outputs": [
        {
          "output_type": "execute_result",
          "data": {
            "text/plain": [
              "['to t r e   et   _ eh  e       o te o_ __ ____oe___',\n",
              " 'to t r e   et   _ eh  e       o te o_ __ ____oe___',\n",
              " 'to t r e   et   _ eh  e       o te o_ __ ____oe___',\n",
              " 'to t r e   et   _ eh  e       o te o_ __ ____oe___']"
            ]
          },
          "metadata": {},
          "execution_count": 32
        }
      ]
    },
    {
      "cell_type": "code",
      "source": [],
      "metadata": {
        "id": "_mDYagWuL-Rf"
      },
      "execution_count": null,
      "outputs": []
    }
  ]
}